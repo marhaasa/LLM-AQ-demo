{
 "cells": [
  {
   "cell_type": "markdown",
   "id": "header",
   "metadata": {},
   "source": [
    "<center>\n",
    "\n",
    "# **Initialize Metadata Table**\n",
    "\n",
    "</center>\n",
    "\n",
    "# **Purpose**\n",
    "#### This notebook initializes the metadata tracking table for the AquaQuiver pipeline. The metadata table stores execution information including:\n",
    "- Notebook run timestamps\n",
    "- Row counts for each table processed\n",
    "- Success/failure status\n",
    "- Error messages (if any)\n",
    "- Execution duration\n",
    "\n",
    "#### Run this notebook once before running your data pipelines to ensure the metadata table exists."
   ]
  },
  {
   "cell_type": "markdown",
   "id": "dependencies",
   "metadata": {},
   "source": [
    "# **Install Dependencies**"
   ]
  },
  {
   "cell_type": "code",
   "execution_count": null,
   "id": "install-deps",
   "metadata": {},
   "outputs": [],
   "source": [
    "!pip install --quiet deltalake==0.18.2"
   ]
  },
  {
   "cell_type": "markdown",
   "id": "load-functions",
   "metadata": {},
   "source": [
    "# **Load AquaQuiver Functions**"
   ]
  },
  {
   "cell_type": "code",
   "execution_count": null,
   "id": "run-functions",
   "metadata": {},
   "outputs": [],
   "source": [
    "%run AquaQuiver_functions"
   ]
  },
  {
   "cell_type": "markdown",
   "id": "init-metadata",
   "metadata": {},
   "source": [
    "# **Initialize Metadata Table**\n",
    "#### This creates the metadata table if it doesn't exist. If the table already exists, it will skip creation."
   ]
  },
  {
   "cell_type": "code",
   "execution_count": null,
   "id": "create-table",
   "metadata": {},
   "outputs": [],
   "source": [
    "# Initialize the metadata table\n",
    "initialize_metadata_table(database=\"Base\", delta_table=\"pipeline_metadata\")\n",
    "\n",
    "print(\"\\nMetadata table initialization complete.\")\n",
    "print(\"The metadata table 'Base.pipeline_metadata' is ready to track pipeline executions.\")"
   ]
  },
  {
   "cell_type": "markdown",
   "id": "query-metadata",
   "metadata": {},
   "source": [
    "# **Query Metadata (Optional)**\n",
    "#### You can use the following code to query existing metadata records:"
   ]
  },
  {
   "cell_type": "code",
   "execution_count": null,
   "id": "query-table",
   "metadata": {},
   "outputs": [],
   "source": [
    "from deltalake import DeltaTable\n",
    "import pyarrow.compute as pc\n",
    "\n",
    "# Read metadata table\n",
    "lakehouse_properties = notebookutils.lakehouse.get(\"Base\")\n",
    "abfss_path = lakehouse_properties[\"properties\"][\"abfsPath\"]\n",
    "delta_table_path = f\"{abfss_path}/Tables/pipeline_metadata\"\n",
    "\n",
    "aadToken = notebookutils.credentials.getToken('storage')\n",
    "storage_options={\"bearer_token\": aadToken, \"use_fabric_endpoint\": \"true\"}\n",
    "\n",
    "try:\n",
    "    dt = DeltaTable(delta_table_path, storage_options=storage_options)\n",
    "    metadata_df = dt.to_pyarrow_table()\n",
    "    \n",
    "    if metadata_df.num_rows > 0:\n",
    "        print(f\"Total metadata records: {metadata_df.num_rows}\")\n",
    "        print(\"\\nLast 5 pipeline runs:\")\n",
    "        # Sort by timestamp and show last 5 records\n",
    "        sorted_indices = pc.sort_indices(metadata_df['run_timestamp'], sort_keys=[(\"run_timestamp\", \"descending\")])\n",
    "        last_5 = metadata_df.take(sorted_indices[:5])\n",
    "        \n",
    "        # Display as pandas for better formatting\n",
    "        import pandas as pd\n",
    "        display(last_5.to_pandas()[['run_timestamp', 'notebook_name', 'table_name', 'layer', 'row_count', 'status', 'duration_seconds']])\n",
    "    else:\n",
    "        print(\"No metadata records found yet. Run your pipelines to start collecting metadata.\")\n",
    "except Exception as e:\n",
    "    print(f\"Could not read metadata table: {str(e)}\")"
   ]
  }
 ],
 "metadata": {
  "kernelspec": {
   "display_name": "Python 3",
   "language": "python",
   "name": "python3"
  },
  "language_info": {
   "name": "python",
   "version": "3.8.0"
  }
 },
 "nbformat": 4,
 "nbformat_minor": 5
}